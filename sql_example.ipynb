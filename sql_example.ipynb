{
 "cells": [
  {
   "cell_type": "markdown",
   "metadata": {},
   "source": [
    "### Import Libraries"
   ]
  },
  {
   "cell_type": "code",
   "execution_count": null,
   "metadata": {},
   "outputs": [],
   "source": [
    "import pandas as pd\n",
    "from IPython.display import display"
   ]
  },
  {
   "cell_type": "markdown",
   "metadata": {},
   "source": [
    "### Create analysis dataframe from parameters"
   ]
  },
  {
   "cell_type": "code",
   "execution_count": null,
   "metadata": {},
   "outputs": [],
   "source": [
    "# Create DataFrame from the monthly payments\n",
    "analysis_data = {\n",
    "    'month_number': [1, 2, 3, 4],\n",
    "    'payment_amount': [month_1_payments, month_2_payments, month_3_payments, month_4_payments],\n",
    "    'provider_id': [provider_id] * 4,\n",
    "    'provider_name': [provider_name] * 4\n",
    "}\n",
    "\n",
    "df = pd.DataFrame(analysis_data)"
   ]
  },
  {
   "cell_type": "markdown",
   "metadata": {},
   "source": [
    "### Perform Analysis"
   ]
  },
  {
   "cell_type": "code",
   "execution_count": null,
   "metadata": {},
   "outputs": [],
   "source": [
    "# Payment Summary\n",
    "summary = {\n",
    "    'provider_id': [provider_id],\n",
    "    'provider_name': [provider_name],\n",
    "    'total_payments': [df['payment_amount'].sum()],\n",
    "    'avg_monthly_payment': [df['payment_amount'].mean()],\n",
    "    'highest_payment': [df['payment_amount'].max()],\n",
    "    'lowest_payment': [df['payment_amount'].min()],\n",
    "    'payment_fluctuation_pct': [(df['payment_amount'].max() - df['payment_amount'].min()) / \n",
    "                               df['payment_amount'].min() * 100]\n",
    "}\n",
    "\n",
    "# Monthly Trends\n",
    "df['growth_rate'] = df['payment_amount'].pct_change() * 100\n",
    "trends = df[['month_number', 'payment_amount', 'growth_rate']].to_dict('records')\n",
    "\n",
    "# Payment Distribution\n",
    "avg_payment = df['payment_amount'].mean()\n",
    "distribution = {\n",
    "    'provider_id': [provider_id],\n",
    "    'provider_name': [provider_name],\n",
    "    'num_months': [len(df)],\n",
    "    'months_above_avg': [(df['payment_amount'] > avg_payment).sum()],\n",
    "    'months_below_avg': [(df['payment_amount'] < avg_payment).sum()]\n",
    "}\n",
    "\n",
    "# Compile results\n",
    "results = {\n",
    "    'summary': summary,\n",
    "    'trends': trends,\n",
    "    'distribution': distribution\n",
    "}"
   ]
  },
  {
   "cell_type": "markdown",
   "metadata": {},
   "source": [
    "### Display Results"
   ]
  },
  {
   "cell_type": "code",
   "execution_count": null,
   "metadata": {},
   "outputs": [],
   "source": [
    "print(\"\\nPayment Summary:\")\n",
    "display(pd.DataFrame(results['summary']))\n",
    "\n",
    "print(\"\\nMonthly Trends:\")\n",
    "display(pd.DataFrame(results['trends']))\n",
    "\n",
    "print(\"\\nPayment Distribution:\")\n",
    "display(pd.DataFrame(results['distribution']))"
   ]
  }
 ],
 "metadata": {
  "kernelspec": {
   "display_name": "Python 3",
   "language": "python",
   "name": "python3"
  }
 },
 "nbformat": 4,
 "nbformat_minor": 2
}
