{
 "cells": [
  {
   "cell_type": "markdown",
   "metadata": {},
   "source": [
    "### Import Libraries"
   ]
  },
  {
   "cell_type": "code",
   "execution_count": null,
   "metadata": {},
   "outputs": [],
   "source": [
    "%pip install -r requirements.txt"
   ]
  },
  {
   "cell_type": "code",
   "execution_count": 1,
   "metadata": {},
   "outputs": [],
   "source": [
    "import pandas as pd\n",
    "import sqlite3\n",
    "from sqlalchemy import create_engine\n",
    "from IPython.display import display\n",
    "import json"
   ]
  },
  {
   "cell_type": "markdown",
   "metadata": {},
   "source": [
    "### Parameters that will be passed in"
   ]
  },
  {
   "cell_type": "code",
   "execution_count": 2,
   "metadata": {},
   "outputs": [],
   "source": [
    "provider_id = None\n",
    "provider_name = None\n",
    "month_1_payments = None\n",
    "month_2_payments = None\n",
    "month_3_payments = None\n",
    "month_4_payments = None"
   ]
  },
  {
   "cell_type": "markdown",
   "metadata": {},
   "source": [
    "### Create a temporary SQLite database and populate it with our data"
   ]
  },
  {
   "cell_type": "code",
   "execution_count": 3,
   "metadata": {},
   "outputs": [],
   "source": [
    "def setup_temp_database():\n",
    "    conn = sqlite3.connect(':memory:')\n",
    "    \n",
    "    # Create provider payments table\n",
    "    conn.execute('''\n",
    "    CREATE TABLE provider_payments (\n",
    "        month_number INTEGER,\n",
    "        payment_amount DECIMAL(10,2),\n",
    "        provider_id INTEGER,\n",
    "        provider_name TEXT\n",
    "    )\n",
    "    ''')\n",
    "    \n",
    "    # Insert the payment data\n",
    "    conn.execute('''\n",
    "    INSERT INTO provider_payments (month_number, payment_amount, provider_id, provider_name)\n",
    "    VALUES \n",
    "        (1, ?, ?, ?),\n",
    "        (2, ?, ?, ?),\n",
    "        (3, ?, ?, ?),\n",
    "        (4, ?, ?, ?)\n",
    "    ''', [month_1_payments, provider_id, provider_name,\n",
    "         month_2_payments, provider_id, provider_name,\n",
    "         month_3_payments, provider_id, provider_name,\n",
    "         month_4_payments, provider_id, provider_name])\n",
    "    \n",
    "    return conn"
   ]
  },
  {
   "cell_type": "markdown",
   "metadata": {},
   "source": [
    "### SQL Analysis Queries"
   ]
  },
  {
   "cell_type": "code",
   "execution_count": 4,
   "metadata": {},
   "outputs": [],
   "source": [
    "PAYMENT_SUMMARY_QUERY = \"\"\"\n",
    "SELECT \n",
    "    provider_id,\n",
    "    provider_name,\n",
    "    SUM(payment_amount) as total_payments,\n",
    "    AVG(payment_amount) as avg_monthly_payment,\n",
    "    MAX(payment_amount) as highest_payment,\n",
    "    MIN(payment_amount) as lowest_payment,\n",
    "    (MAX(payment_amount) - MIN(payment_amount)) / MIN(payment_amount) * 100 as payment_fluctuation_pct\n",
    "FROM provider_payments\n",
    "GROUP BY provider_id, provider_name;\n",
    "\"\"\"\n",
    "\n",
    "MONTHLY_TREND_QUERY = \"\"\"\n",
    "SELECT \n",
    "    month_number,\n",
    "    payment_amount,\n",
    "    ROUND(((payment_amount / LAG(payment_amount, 1) OVER (ORDER BY month_number)) - 1) * 100, 2) as growth_rate\n",
    "FROM provider_payments\n",
    "ORDER BY month_number;\n",
    "\"\"\"\n",
    "\n",
    "PAYMENT_DISTRIBUTION_QUERY = \"\"\"\n",
    "SELECT\n",
    "    provider_id,\n",
    "    provider_name,\n",
    "    COUNT(*) as num_months,\n",
    "    SUM(CASE WHEN payment_amount > (SELECT AVG(payment_amount) FROM provider_payments) THEN 1 ELSE 0 END) as months_above_avg,\n",
    "    SUM(CASE WHEN payment_amount < (SELECT AVG(payment_amount) FROM provider_payments) THEN 1 ELSE 0 END) as months_below_avg\n",
    "FROM provider_payments\n",
    "GROUP BY provider_id, provider_name;\n",
    "\"\"\""
   ]
  },
  {
   "cell_type": "markdown",
   "metadata": {},
   "source": [
    "### Execute analysis"
   ]
  },
  {
   "cell_type": "code",
   "execution_count": 5,
   "metadata": {},
   "outputs": [],
   "source": [
    "def run_analysis(conn):\n",
    "    # Get summary statistics\n",
    "    summary_df = pd.read_sql_query(PAYMENT_SUMMARY_QUERY, conn)\n",
    "    \n",
    "    # Get monthly trends\n",
    "    trends_df = pd.read_sql_query(MONTHLY_TREND_QUERY, conn)\n",
    "    \n",
    "    # Get distribution analysis\n",
    "    distribution_df = pd.read_sql_query(PAYMENT_DISTRIBUTION_QUERY, conn)\n",
    "    \n",
    "    # Convert DataFrames to dictionaries for JSON serialization\n",
    "    return {\n",
    "        'summary': summary_df.to_dict('records'),\n",
    "        'trends': trends_df.to_dict('records'),\n",
    "        'distribution': distribution_df.to_dict('records')\n",
    "    }"
   ]
  },
  {
   "cell_type": "markdown",
   "metadata": {},
   "source": [
    "### Setup database"
   ]
  },
  {
   "cell_type": "code",
   "execution_count": 6,
   "metadata": {},
   "outputs": [],
   "source": [
    "conn = setup_temp_database()"
   ]
  },
  {
   "cell_type": "markdown",
   "metadata": {},
   "source": [
    "### Run analysis"
   ]
  },
  {
   "cell_type": "code",
   "execution_count": 7,
   "metadata": {},
   "outputs": [],
   "source": [
    "results = run_analysis(conn)"
   ]
  },
  {
   "cell_type": "markdown",
   "metadata": {},
   "source": [
    "### Display results"
   ]
  },
  {
   "cell_type": "code",
   "execution_count": 8,
   "metadata": {},
   "outputs": [
    {
     "name": "stdout",
     "output_type": "stream",
     "text": [
      "\n",
      "Payment Summary:\n"
     ]
    },
    {
     "data": {
      "text/html": [
       "<div>\n",
       "<style scoped>\n",
       "    .dataframe tbody tr th:only-of-type {\n",
       "        vertical-align: middle;\n",
       "    }\n",
       "\n",
       "    .dataframe tbody tr th {\n",
       "        vertical-align: top;\n",
       "    }\n",
       "\n",
       "    .dataframe thead th {\n",
       "        text-align: right;\n",
       "    }\n",
       "</style>\n",
       "<table border=\"1\" class=\"dataframe\">\n",
       "  <thead>\n",
       "    <tr style=\"text-align: right;\">\n",
       "      <th></th>\n",
       "      <th>provider_id</th>\n",
       "      <th>provider_name</th>\n",
       "      <th>total_payments</th>\n",
       "      <th>avg_monthly_payment</th>\n",
       "      <th>highest_payment</th>\n",
       "      <th>lowest_payment</th>\n",
       "      <th>payment_fluctuation_pct</th>\n",
       "    </tr>\n",
       "  </thead>\n",
       "  <tbody>\n",
       "    <tr>\n",
       "      <th>0</th>\n",
       "      <td>None</td>\n",
       "      <td>None</td>\n",
       "      <td>None</td>\n",
       "      <td>None</td>\n",
       "      <td>None</td>\n",
       "      <td>None</td>\n",
       "      <td>None</td>\n",
       "    </tr>\n",
       "  </tbody>\n",
       "</table>\n",
       "</div>"
      ],
      "text/plain": [
       "  provider_id provider_name total_payments avg_monthly_payment  \\\n",
       "0        None          None           None                None   \n",
       "\n",
       "  highest_payment lowest_payment payment_fluctuation_pct  \n",
       "0            None           None                    None  "
      ]
     },
     "metadata": {},
     "output_type": "display_data"
    },
    {
     "name": "stdout",
     "output_type": "stream",
     "text": [
      "\n",
      "Monthly Trends:\n"
     ]
    },
    {
     "data": {
      "text/html": [
       "<div>\n",
       "<style scoped>\n",
       "    .dataframe tbody tr th:only-of-type {\n",
       "        vertical-align: middle;\n",
       "    }\n",
       "\n",
       "    .dataframe tbody tr th {\n",
       "        vertical-align: top;\n",
       "    }\n",
       "\n",
       "    .dataframe thead th {\n",
       "        text-align: right;\n",
       "    }\n",
       "</style>\n",
       "<table border=\"1\" class=\"dataframe\">\n",
       "  <thead>\n",
       "    <tr style=\"text-align: right;\">\n",
       "      <th></th>\n",
       "      <th>month_number</th>\n",
       "      <th>payment_amount</th>\n",
       "      <th>growth_rate</th>\n",
       "    </tr>\n",
       "  </thead>\n",
       "  <tbody>\n",
       "    <tr>\n",
       "      <th>0</th>\n",
       "      <td>1</td>\n",
       "      <td>None</td>\n",
       "      <td>None</td>\n",
       "    </tr>\n",
       "    <tr>\n",
       "      <th>1</th>\n",
       "      <td>2</td>\n",
       "      <td>None</td>\n",
       "      <td>None</td>\n",
       "    </tr>\n",
       "    <tr>\n",
       "      <th>2</th>\n",
       "      <td>3</td>\n",
       "      <td>None</td>\n",
       "      <td>None</td>\n",
       "    </tr>\n",
       "    <tr>\n",
       "      <th>3</th>\n",
       "      <td>4</td>\n",
       "      <td>None</td>\n",
       "      <td>None</td>\n",
       "    </tr>\n",
       "  </tbody>\n",
       "</table>\n",
       "</div>"
      ],
      "text/plain": [
       "   month_number payment_amount growth_rate\n",
       "0             1           None        None\n",
       "1             2           None        None\n",
       "2             3           None        None\n",
       "3             4           None        None"
      ]
     },
     "metadata": {},
     "output_type": "display_data"
    },
    {
     "name": "stdout",
     "output_type": "stream",
     "text": [
      "\n",
      "Payment Distribution:\n"
     ]
    },
    {
     "data": {
      "text/html": [
       "<div>\n",
       "<style scoped>\n",
       "    .dataframe tbody tr th:only-of-type {\n",
       "        vertical-align: middle;\n",
       "    }\n",
       "\n",
       "    .dataframe tbody tr th {\n",
       "        vertical-align: top;\n",
       "    }\n",
       "\n",
       "    .dataframe thead th {\n",
       "        text-align: right;\n",
       "    }\n",
       "</style>\n",
       "<table border=\"1\" class=\"dataframe\">\n",
       "  <thead>\n",
       "    <tr style=\"text-align: right;\">\n",
       "      <th></th>\n",
       "      <th>provider_id</th>\n",
       "      <th>provider_name</th>\n",
       "      <th>num_months</th>\n",
       "      <th>months_above_avg</th>\n",
       "      <th>months_below_avg</th>\n",
       "    </tr>\n",
       "  </thead>\n",
       "  <tbody>\n",
       "    <tr>\n",
       "      <th>0</th>\n",
       "      <td>None</td>\n",
       "      <td>None</td>\n",
       "      <td>4</td>\n",
       "      <td>0</td>\n",
       "      <td>0</td>\n",
       "    </tr>\n",
       "  </tbody>\n",
       "</table>\n",
       "</div>"
      ],
      "text/plain": [
       "  provider_id provider_name  num_months  months_above_avg  months_below_avg\n",
       "0        None          None           4                 0                 0"
      ]
     },
     "metadata": {},
     "output_type": "display_data"
    }
   ],
   "source": [
    "print(\"\\nPayment Summary:\")\n",
    "display(pd.DataFrame(results['summary']))\n",
    "\n",
    "print(\"\\nMonthly Trends:\")\n",
    "display(pd.DataFrame(results['trends']))\n",
    "\n",
    "print(\"\\nPayment Distribution:\")\n",
    "display(pd.DataFrame(results['distribution']))"
   ]
  },
  {
   "cell_type": "markdown",
   "metadata": {},
   "source": [
    "### Close connection    "
   ]
  },
  {
   "cell_type": "code",
   "execution_count": 9,
   "metadata": {},
   "outputs": [],
   "source": [
    "conn.close()"
   ]
  },
  {
   "cell_type": "markdown",
   "metadata": {},
   "source": [
    "### Convert results to JSON for the notebook executor"
   ]
  },
  {
   "cell_type": "code",
   "execution_count": 10,
   "metadata": {},
   "outputs": [],
   "source": [
    "results = json.dumps(results)"
   ]
  },
  {
   "cell_type": "code",
   "execution_count": null,
   "metadata": {},
   "outputs": [],
   "source": []
  }
 ],
 "metadata": {
  "kernelspec": {
   "display_name": ".venv",
   "language": "python",
   "name": "python3"
  },
  "language_info": {
   "codemirror_mode": {
    "name": "ipython",
    "version": 3
   },
   "file_extension": ".py",
   "mimetype": "text/x-python",
   "name": "python",
   "nbconvert_exporter": "python",
   "pygments_lexer": "ipython3",
   "version": "3.12.1"
  }
 },
 "nbformat": 4,
 "nbformat_minor": 2
}
