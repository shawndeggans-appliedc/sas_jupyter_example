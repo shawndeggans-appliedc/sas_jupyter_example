{
 "cells": [
  {
   "cell_type": "markdown",
   "metadata": {},
   "source": [
    "### Import required libraries"
   ]
  },
  {
   "cell_type": "code",
   "execution_count": null,
   "metadata": {},
   "outputs": [],
   "source": [
    "import pandas as pd\n",
    "import logging"
   ]
  },
  {
   "cell_type": "markdown",
   "metadata": {},
   "source": [
    "### Set up basic logging"
   ]
  },
  {
   "cell_type": "code",
   "execution_count": null,
   "metadata": {},
   "outputs": [],
   "source": [
    "logging.basicConfig(level=logging.INFO, format='%(asctime)s - %(levelname)s - %(message)s')"
   ]
  },
  {
   "cell_type": "markdown",
   "metadata": {},
   "source": [
    "### Create sample provider data"
   ]
  },
  {
   "cell_type": "code",
   "execution_count": null,
   "metadata": {},
   "outputs": [],
   "source": [
    "provider_data = {\n",
    "    'provider_id': [1001, 1002, 1003],\n",
    "    'provider_name': ['Alpha Payments', 'Beta Financial', 'Gamma Processing'],\n",
    "    'month_1_payments': [150000, 225000, 175000],\n",
    "    'month_2_payments': [165000, 215000, 180000],\n",
    "    'month_3_payments': [175000, 235000, 165000],\n",
    "    'month_4_payments': [180000, 245000, 190000],\n",
    "    'output_file': ['alpha_report.xlsx', 'beta_report.xlsx', 'gamma_report.xlsx']\n",
    "}\n",
    "\n",
    "df_providers = pd.DataFrame(provider_data)\n",
    "print(\"Sample provider data:\")\n",
    "display(df_providers)"
   ]
  },
  {
   "cell_type": "markdown",
   "metadata": {},
   "source": [
    "### Function to execute analysis notebook"
   ]
  },
  {
   "cell_type": "code",
   "execution_count": null,
   "metadata": {},
   "outputs": [],
   "source": [
    "def execute_analysis_notebook(provider_row):\n",
    "    \"\"\"\n",
    "    Execute the analysis notebook with parameters from a provider row\n",
    "    \"\"\"\n",
    "    logging.info(f\"Processing provider: {provider_row['provider_name']} (ID: {provider_row['provider_id']})\")\n",
    "    \n",
    "    try:\n",
    "        # Set parameters as global variables for the analysis notebook\n",
    "        globals().update({\n",
    "            'provider_id': provider_row['provider_id'],\n",
    "            'provider_name': provider_row['provider_name'],\n",
    "            'month_1_payments': provider_row['month_1_payments'],\n",
    "            'month_2_payments': provider_row['month_2_payments'],\n",
    "            'month_3_payments': provider_row['month_3_payments'],\n",
    "            'month_4_payments': provider_row['month_4_payments']\n",
    "        })\n",
    "        \n",
    "        # Run the analysis notebook\n",
    "        %run sql_example.ipynb\n",
    "        \n",
    "        return results\n",
    "        \n",
    "    except Exception as e:\n",
    "        logging.error(f\"Error executing analysis notebook: {str(e)}\")\n",
    "        raise"
   ]
  },
  {
   "cell_type": "markdown",
   "metadata": {},
   "source": [
    "### Create Excel report"
   ]
  },
  {
   "cell_type": "code",
   "execution_count": null,
   "metadata": {},
   "outputs": [],
   "source": [
    "def create_excel_report(results, output_file):\n",
    "    \"\"\"\n",
    "    Create Excel report from analysis results\n",
    "    \"\"\"\n",
    "    with pd.ExcelWriter(output_file, engine='openpyxl') as writer:\n",
    "        # Write each analysis section to a different sheet\n",
    "        pd.DataFrame(results['summary']).to_excel(writer, sheet_name='Summary', index=False)\n",
    "        pd.DataFrame(results['trends']).to_excel(writer, sheet_name='Monthly Trends', index=False)\n",
    "        pd.DataFrame(results['distribution']).to_excel(writer, sheet_name='Distribution', index=False)\n",
    "    \n",
    "    logging.info(f\"Report generated: {output_file}\")\n",
    "    return output_file"
   ]
  },
  {
   "cell_type": "markdown",
   "metadata": {},
   "source": [
    "### Process all providers"
   ]
  },
  {
   "cell_type": "code",
   "execution_count": null,
   "metadata": {},
   "outputs": [],
   "source": [
    "def process_providers():\n",
    "    \"\"\"\n",
    "    Main function to process all providers\n",
    "    \"\"\"\n",
    "    logging.info(\"Starting provider processing\")\n",
    "    \n",
    "    for idx, row in df_providers.iterrows():\n",
    "        try:\n",
    "            # Execute analysis notebook\n",
    "            results = execute_analysis_notebook(row)\n",
    "            \n",
    "            # Create Excel report\n",
    "            create_excel_report(results, row['output_file'])\n",
    "            \n",
    "        except Exception as e:\n",
    "            logging.error(f\"Error processing provider {row['provider_name']}: {str(e)}\")\n",
    "            continue\n",
    "    \n",
    "    logging.info(\"Provider processing completed\")\n",
    "\n",
    "if __name__ == \"__main__\":\n",
    "    process_providers()"
   ]
  }
 ],
 "metadata": {
  "kernelspec": {
   "display_name": "Python 3",
   "language": "python",
   "name": "python3"
  }
 },
 "nbformat": 4,
 "nbformat_minor": 2
}
