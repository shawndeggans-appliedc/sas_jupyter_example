{
 "cells": [
  {
   "cell_type": "markdown",
   "metadata": {},
   "source": [
    "### Import required libraries"
   ]
  },
  {
   "cell_type": "code",
   "execution_count": 1,
   "metadata": {},
   "outputs": [],
   "source": [
    "import pandas as pd\n",
    "import logging"
   ]
  },
  {
   "cell_type": "markdown",
   "metadata": {},
   "source": [
    "### Set up basic logging"
   ]
  },
  {
   "cell_type": "code",
   "execution_count": 2,
   "metadata": {},
   "outputs": [],
   "source": [
    "logging.basicConfig(level=logging.INFO, format='%(asctime)s - %(levelname)s - %(message)s')"
   ]
  },
  {
   "cell_type": "markdown",
   "metadata": {},
   "source": [
    "### Create sample provider data"
   ]
  },
  {
   "cell_type": "code",
   "execution_count": 3,
   "metadata": {},
   "outputs": [
    {
     "name": "stdout",
     "output_type": "stream",
     "text": [
      "Sample provider data:\n"
     ]
    },
    {
     "data": {
      "text/html": [
       "<div>\n",
       "<style scoped>\n",
       "    .dataframe tbody tr th:only-of-type {\n",
       "        vertical-align: middle;\n",
       "    }\n",
       "\n",
       "    .dataframe tbody tr th {\n",
       "        vertical-align: top;\n",
       "    }\n",
       "\n",
       "    .dataframe thead th {\n",
       "        text-align: right;\n",
       "    }\n",
       "</style>\n",
       "<table border=\"1\" class=\"dataframe\">\n",
       "  <thead>\n",
       "    <tr style=\"text-align: right;\">\n",
       "      <th></th>\n",
       "      <th>provider_id</th>\n",
       "      <th>provider_name</th>\n",
       "      <th>month_1_payments</th>\n",
       "      <th>month_2_payments</th>\n",
       "      <th>month_3_payments</th>\n",
       "      <th>month_4_payments</th>\n",
       "      <th>output_file</th>\n",
       "    </tr>\n",
       "  </thead>\n",
       "  <tbody>\n",
       "    <tr>\n",
       "      <th>0</th>\n",
       "      <td>1001</td>\n",
       "      <td>Alpha Payments</td>\n",
       "      <td>150000</td>\n",
       "      <td>165000</td>\n",
       "      <td>175000</td>\n",
       "      <td>180000</td>\n",
       "      <td>alpha_report.xlsx</td>\n",
       "    </tr>\n",
       "    <tr>\n",
       "      <th>1</th>\n",
       "      <td>1002</td>\n",
       "      <td>Beta Financial</td>\n",
       "      <td>225000</td>\n",
       "      <td>215000</td>\n",
       "      <td>235000</td>\n",
       "      <td>245000</td>\n",
       "      <td>beta_report.xlsx</td>\n",
       "    </tr>\n",
       "    <tr>\n",
       "      <th>2</th>\n",
       "      <td>1003</td>\n",
       "      <td>Gamma Processing</td>\n",
       "      <td>175000</td>\n",
       "      <td>180000</td>\n",
       "      <td>165000</td>\n",
       "      <td>190000</td>\n",
       "      <td>gamma_report.xlsx</td>\n",
       "    </tr>\n",
       "  </tbody>\n",
       "</table>\n",
       "</div>"
      ],
      "text/plain": [
       "   provider_id     provider_name  month_1_payments  month_2_payments  \\\n",
       "0         1001    Alpha Payments            150000            165000   \n",
       "1         1002    Beta Financial            225000            215000   \n",
       "2         1003  Gamma Processing            175000            180000   \n",
       "\n",
       "   month_3_payments  month_4_payments        output_file  \n",
       "0            175000            180000  alpha_report.xlsx  \n",
       "1            235000            245000   beta_report.xlsx  \n",
       "2            165000            190000  gamma_report.xlsx  "
      ]
     },
     "metadata": {},
     "output_type": "display_data"
    }
   ],
   "source": [
    "provider_data = {\n",
    "    'provider_id': [1001, 1002, 1003],\n",
    "    'provider_name': ['Alpha Payments', 'Beta Financial', 'Gamma Processing'],\n",
    "    'month_1_payments': [150000, 225000, 175000],\n",
    "    'month_2_payments': [165000, 215000, 180000],\n",
    "    'month_3_payments': [175000, 235000, 165000],\n",
    "    'month_4_payments': [180000, 245000, 190000],\n",
    "    'output_file': ['alpha_report.xlsx', 'beta_report.xlsx', 'gamma_report.xlsx']\n",
    "}\n",
    "\n",
    "df_providers = pd.DataFrame(provider_data)\n",
    "print(\"Sample provider data:\")\n",
    "display(df_providers)"
   ]
  },
  {
   "cell_type": "markdown",
   "metadata": {},
   "source": [
    "### Function to execute analysis notebook"
   ]
  },
  {
   "cell_type": "code",
   "execution_count": 4,
   "metadata": {},
   "outputs": [],
   "source": [
    "def execute_analysis_notebook(provider_row):\n",
    "    \"\"\"\n",
    "    Execute the analysis notebook with parameters from a provider row\n",
    "    \"\"\"\n",
    "    logging.info(f\"Processing provider: {provider_row['provider_name']} (ID: {provider_row['provider_id']})\")\n",
    "    \n",
    "    try:\n",
    "        # Set parameters as global variables for the analysis notebook\n",
    "        globals().update({\n",
    "            'provider_id': provider_row['provider_id'],\n",
    "            'provider_name': provider_row['provider_name'],\n",
    "            'month_1_payments': provider_row['month_1_payments'],\n",
    "            'month_2_payments': provider_row['month_2_payments'],\n",
    "            'month_3_payments': provider_row['month_3_payments'],\n",
    "            'month_4_payments': provider_row['month_4_payments']\n",
    "        })\n",
    "        \n",
    "        # Run the analysis notebook\n",
    "        %run sql_example.ipynb\n",
    "        \n",
    "        return results\n",
    "        \n",
    "    except Exception as e:\n",
    "        logging.error(f\"Error executing analysis notebook: {str(e)}\")\n",
    "        raise"
   ]
  },
  {
   "cell_type": "markdown",
   "metadata": {},
   "source": [
    "### Create Excel report"
   ]
  },
  {
   "cell_type": "code",
   "execution_count": 5,
   "metadata": {},
   "outputs": [],
   "source": [
    "def create_excel_report(results, output_file):\n",
    "    \"\"\"\n",
    "    Create Excel report from analysis results\n",
    "    \"\"\"\n",
    "    with pd.ExcelWriter(output_file, engine='openpyxl') as writer:\n",
    "        # Write each analysis section to a different sheet\n",
    "        pd.DataFrame(results['summary']).to_excel(writer, sheet_name='Summary', index=False)\n",
    "        pd.DataFrame(results['trends']).to_excel(writer, sheet_name='Monthly Trends', index=False)\n",
    "        pd.DataFrame(results['distribution']).to_excel(writer, sheet_name='Distribution', index=False)\n",
    "    \n",
    "    logging.info(f\"Report generated: {output_file}\")\n",
    "    return output_file"
   ]
  },
  {
   "cell_type": "markdown",
   "metadata": {},
   "source": [
    "### Process all providers"
   ]
  },
  {
   "cell_type": "code",
   "execution_count": 6,
   "metadata": {},
   "outputs": [
    {
     "name": "stderr",
     "output_type": "stream",
     "text": [
      "2024-11-13 16:26:00,687 - INFO - Starting provider processing\n",
      "2024-11-13 16:26:00,688 - INFO - Processing provider: Alpha Payments (ID: 1001)\n"
     ]
    },
    {
     "name": "stdout",
     "output_type": "stream",
     "text": [
      "\n",
      "Payment Summary:\n"
     ]
    },
    {
     "data": {
      "text/html": [
       "<div>\n",
       "<style scoped>\n",
       "    .dataframe tbody tr th:only-of-type {\n",
       "        vertical-align: middle;\n",
       "    }\n",
       "\n",
       "    .dataframe tbody tr th {\n",
       "        vertical-align: top;\n",
       "    }\n",
       "\n",
       "    .dataframe thead th {\n",
       "        text-align: right;\n",
       "    }\n",
       "</style>\n",
       "<table border=\"1\" class=\"dataframe\">\n",
       "  <thead>\n",
       "    <tr style=\"text-align: right;\">\n",
       "      <th></th>\n",
       "      <th>provider_id</th>\n",
       "      <th>provider_name</th>\n",
       "      <th>total_payments</th>\n",
       "      <th>avg_monthly_payment</th>\n",
       "      <th>highest_payment</th>\n",
       "      <th>lowest_payment</th>\n",
       "      <th>payment_fluctuation_pct</th>\n",
       "    </tr>\n",
       "  </thead>\n",
       "  <tbody>\n",
       "    <tr>\n",
       "      <th>0</th>\n",
       "      <td>1001</td>\n",
       "      <td>Alpha Payments</td>\n",
       "      <td>670000</td>\n",
       "      <td>167500.0</td>\n",
       "      <td>180000</td>\n",
       "      <td>150000</td>\n",
       "      <td>20.0</td>\n",
       "    </tr>\n",
       "  </tbody>\n",
       "</table>\n",
       "</div>"
      ],
      "text/plain": [
       "   provider_id   provider_name  total_payments  avg_monthly_payment  \\\n",
       "0         1001  Alpha Payments          670000             167500.0   \n",
       "\n",
       "   highest_payment  lowest_payment  payment_fluctuation_pct  \n",
       "0           180000          150000                     20.0  "
      ]
     },
     "metadata": {},
     "output_type": "display_data"
    },
    {
     "name": "stdout",
     "output_type": "stream",
     "text": [
      "\n",
      "Monthly Trends:\n"
     ]
    },
    {
     "data": {
      "text/html": [
       "<div>\n",
       "<style scoped>\n",
       "    .dataframe tbody tr th:only-of-type {\n",
       "        vertical-align: middle;\n",
       "    }\n",
       "\n",
       "    .dataframe tbody tr th {\n",
       "        vertical-align: top;\n",
       "    }\n",
       "\n",
       "    .dataframe thead th {\n",
       "        text-align: right;\n",
       "    }\n",
       "</style>\n",
       "<table border=\"1\" class=\"dataframe\">\n",
       "  <thead>\n",
       "    <tr style=\"text-align: right;\">\n",
       "      <th></th>\n",
       "      <th>month_number</th>\n",
       "      <th>payment_amount</th>\n",
       "      <th>growth_rate</th>\n",
       "    </tr>\n",
       "  </thead>\n",
       "  <tbody>\n",
       "    <tr>\n",
       "      <th>0</th>\n",
       "      <td>1</td>\n",
       "      <td>150000</td>\n",
       "      <td>NaN</td>\n",
       "    </tr>\n",
       "    <tr>\n",
       "      <th>1</th>\n",
       "      <td>2</td>\n",
       "      <td>165000</td>\n",
       "      <td>10.000000</td>\n",
       "    </tr>\n",
       "    <tr>\n",
       "      <th>2</th>\n",
       "      <td>3</td>\n",
       "      <td>175000</td>\n",
       "      <td>6.060606</td>\n",
       "    </tr>\n",
       "    <tr>\n",
       "      <th>3</th>\n",
       "      <td>4</td>\n",
       "      <td>180000</td>\n",
       "      <td>2.857143</td>\n",
       "    </tr>\n",
       "  </tbody>\n",
       "</table>\n",
       "</div>"
      ],
      "text/plain": [
       "   month_number  payment_amount  growth_rate\n",
       "0             1          150000          NaN\n",
       "1             2          165000    10.000000\n",
       "2             3          175000     6.060606\n",
       "3             4          180000     2.857143"
      ]
     },
     "metadata": {},
     "output_type": "display_data"
    },
    {
     "name": "stdout",
     "output_type": "stream",
     "text": [
      "\n",
      "Payment Distribution:\n"
     ]
    },
    {
     "data": {
      "text/html": [
       "<div>\n",
       "<style scoped>\n",
       "    .dataframe tbody tr th:only-of-type {\n",
       "        vertical-align: middle;\n",
       "    }\n",
       "\n",
       "    .dataframe tbody tr th {\n",
       "        vertical-align: top;\n",
       "    }\n",
       "\n",
       "    .dataframe thead th {\n",
       "        text-align: right;\n",
       "    }\n",
       "</style>\n",
       "<table border=\"1\" class=\"dataframe\">\n",
       "  <thead>\n",
       "    <tr style=\"text-align: right;\">\n",
       "      <th></th>\n",
       "      <th>provider_id</th>\n",
       "      <th>provider_name</th>\n",
       "      <th>num_months</th>\n",
       "      <th>months_above_avg</th>\n",
       "      <th>months_below_avg</th>\n",
       "    </tr>\n",
       "  </thead>\n",
       "  <tbody>\n",
       "    <tr>\n",
       "      <th>0</th>\n",
       "      <td>1001</td>\n",
       "      <td>Alpha Payments</td>\n",
       "      <td>4</td>\n",
       "      <td>2</td>\n",
       "      <td>2</td>\n",
       "    </tr>\n",
       "  </tbody>\n",
       "</table>\n",
       "</div>"
      ],
      "text/plain": [
       "   provider_id   provider_name  num_months  months_above_avg  months_below_avg\n",
       "0         1001  Alpha Payments           4                 2                 2"
      ]
     },
     "metadata": {},
     "output_type": "display_data"
    },
    {
     "name": "stderr",
     "output_type": "stream",
     "text": [
      "2024-11-13 16:26:00,957 - INFO - Report generated: alpha_report.xlsx\n",
      "2024-11-13 16:26:00,957 - INFO - Processing provider: Beta Financial (ID: 1002)\n"
     ]
    },
    {
     "name": "stdout",
     "output_type": "stream",
     "text": [
      "\n",
      "Payment Summary:\n"
     ]
    },
    {
     "data": {
      "text/html": [
       "<div>\n",
       "<style scoped>\n",
       "    .dataframe tbody tr th:only-of-type {\n",
       "        vertical-align: middle;\n",
       "    }\n",
       "\n",
       "    .dataframe tbody tr th {\n",
       "        vertical-align: top;\n",
       "    }\n",
       "\n",
       "    .dataframe thead th {\n",
       "        text-align: right;\n",
       "    }\n",
       "</style>\n",
       "<table border=\"1\" class=\"dataframe\">\n",
       "  <thead>\n",
       "    <tr style=\"text-align: right;\">\n",
       "      <th></th>\n",
       "      <th>provider_id</th>\n",
       "      <th>provider_name</th>\n",
       "      <th>total_payments</th>\n",
       "      <th>avg_monthly_payment</th>\n",
       "      <th>highest_payment</th>\n",
       "      <th>lowest_payment</th>\n",
       "      <th>payment_fluctuation_pct</th>\n",
       "    </tr>\n",
       "  </thead>\n",
       "  <tbody>\n",
       "    <tr>\n",
       "      <th>0</th>\n",
       "      <td>1002</td>\n",
       "      <td>Beta Financial</td>\n",
       "      <td>920000</td>\n",
       "      <td>230000.0</td>\n",
       "      <td>245000</td>\n",
       "      <td>215000</td>\n",
       "      <td>13.953488</td>\n",
       "    </tr>\n",
       "  </tbody>\n",
       "</table>\n",
       "</div>"
      ],
      "text/plain": [
       "   provider_id   provider_name  total_payments  avg_monthly_payment  \\\n",
       "0         1002  Beta Financial          920000             230000.0   \n",
       "\n",
       "   highest_payment  lowest_payment  payment_fluctuation_pct  \n",
       "0           245000          215000                13.953488  "
      ]
     },
     "metadata": {},
     "output_type": "display_data"
    },
    {
     "name": "stdout",
     "output_type": "stream",
     "text": [
      "\n",
      "Monthly Trends:\n"
     ]
    },
    {
     "data": {
      "text/html": [
       "<div>\n",
       "<style scoped>\n",
       "    .dataframe tbody tr th:only-of-type {\n",
       "        vertical-align: middle;\n",
       "    }\n",
       "\n",
       "    .dataframe tbody tr th {\n",
       "        vertical-align: top;\n",
       "    }\n",
       "\n",
       "    .dataframe thead th {\n",
       "        text-align: right;\n",
       "    }\n",
       "</style>\n",
       "<table border=\"1\" class=\"dataframe\">\n",
       "  <thead>\n",
       "    <tr style=\"text-align: right;\">\n",
       "      <th></th>\n",
       "      <th>month_number</th>\n",
       "      <th>payment_amount</th>\n",
       "      <th>growth_rate</th>\n",
       "    </tr>\n",
       "  </thead>\n",
       "  <tbody>\n",
       "    <tr>\n",
       "      <th>0</th>\n",
       "      <td>1</td>\n",
       "      <td>225000</td>\n",
       "      <td>NaN</td>\n",
       "    </tr>\n",
       "    <tr>\n",
       "      <th>1</th>\n",
       "      <td>2</td>\n",
       "      <td>215000</td>\n",
       "      <td>-4.444444</td>\n",
       "    </tr>\n",
       "    <tr>\n",
       "      <th>2</th>\n",
       "      <td>3</td>\n",
       "      <td>235000</td>\n",
       "      <td>9.302326</td>\n",
       "    </tr>\n",
       "    <tr>\n",
       "      <th>3</th>\n",
       "      <td>4</td>\n",
       "      <td>245000</td>\n",
       "      <td>4.255319</td>\n",
       "    </tr>\n",
       "  </tbody>\n",
       "</table>\n",
       "</div>"
      ],
      "text/plain": [
       "   month_number  payment_amount  growth_rate\n",
       "0             1          225000          NaN\n",
       "1             2          215000    -4.444444\n",
       "2             3          235000     9.302326\n",
       "3             4          245000     4.255319"
      ]
     },
     "metadata": {},
     "output_type": "display_data"
    },
    {
     "name": "stdout",
     "output_type": "stream",
     "text": [
      "\n",
      "Payment Distribution:\n"
     ]
    },
    {
     "data": {
      "text/html": [
       "<div>\n",
       "<style scoped>\n",
       "    .dataframe tbody tr th:only-of-type {\n",
       "        vertical-align: middle;\n",
       "    }\n",
       "\n",
       "    .dataframe tbody tr th {\n",
       "        vertical-align: top;\n",
       "    }\n",
       "\n",
       "    .dataframe thead th {\n",
       "        text-align: right;\n",
       "    }\n",
       "</style>\n",
       "<table border=\"1\" class=\"dataframe\">\n",
       "  <thead>\n",
       "    <tr style=\"text-align: right;\">\n",
       "      <th></th>\n",
       "      <th>provider_id</th>\n",
       "      <th>provider_name</th>\n",
       "      <th>num_months</th>\n",
       "      <th>months_above_avg</th>\n",
       "      <th>months_below_avg</th>\n",
       "    </tr>\n",
       "  </thead>\n",
       "  <tbody>\n",
       "    <tr>\n",
       "      <th>0</th>\n",
       "      <td>1002</td>\n",
       "      <td>Beta Financial</td>\n",
       "      <td>4</td>\n",
       "      <td>2</td>\n",
       "      <td>2</td>\n",
       "    </tr>\n",
       "  </tbody>\n",
       "</table>\n",
       "</div>"
      ],
      "text/plain": [
       "   provider_id   provider_name  num_months  months_above_avg  months_below_avg\n",
       "0         1002  Beta Financial           4                 2                 2"
      ]
     },
     "metadata": {},
     "output_type": "display_data"
    },
    {
     "name": "stderr",
     "output_type": "stream",
     "text": [
      "2024-11-13 16:26:00,988 - INFO - Report generated: beta_report.xlsx\n",
      "2024-11-13 16:26:00,988 - INFO - Processing provider: Gamma Processing (ID: 1003)\n"
     ]
    },
    {
     "name": "stdout",
     "output_type": "stream",
     "text": [
      "\n",
      "Payment Summary:\n"
     ]
    },
    {
     "data": {
      "text/html": [
       "<div>\n",
       "<style scoped>\n",
       "    .dataframe tbody tr th:only-of-type {\n",
       "        vertical-align: middle;\n",
       "    }\n",
       "\n",
       "    .dataframe tbody tr th {\n",
       "        vertical-align: top;\n",
       "    }\n",
       "\n",
       "    .dataframe thead th {\n",
       "        text-align: right;\n",
       "    }\n",
       "</style>\n",
       "<table border=\"1\" class=\"dataframe\">\n",
       "  <thead>\n",
       "    <tr style=\"text-align: right;\">\n",
       "      <th></th>\n",
       "      <th>provider_id</th>\n",
       "      <th>provider_name</th>\n",
       "      <th>total_payments</th>\n",
       "      <th>avg_monthly_payment</th>\n",
       "      <th>highest_payment</th>\n",
       "      <th>lowest_payment</th>\n",
       "      <th>payment_fluctuation_pct</th>\n",
       "    </tr>\n",
       "  </thead>\n",
       "  <tbody>\n",
       "    <tr>\n",
       "      <th>0</th>\n",
       "      <td>1003</td>\n",
       "      <td>Gamma Processing</td>\n",
       "      <td>710000</td>\n",
       "      <td>177500.0</td>\n",
       "      <td>190000</td>\n",
       "      <td>165000</td>\n",
       "      <td>15.151515</td>\n",
       "    </tr>\n",
       "  </tbody>\n",
       "</table>\n",
       "</div>"
      ],
      "text/plain": [
       "   provider_id     provider_name  total_payments  avg_monthly_payment  \\\n",
       "0         1003  Gamma Processing          710000             177500.0   \n",
       "\n",
       "   highest_payment  lowest_payment  payment_fluctuation_pct  \n",
       "0           190000          165000                15.151515  "
      ]
     },
     "metadata": {},
     "output_type": "display_data"
    },
    {
     "name": "stdout",
     "output_type": "stream",
     "text": [
      "\n",
      "Monthly Trends:\n"
     ]
    },
    {
     "data": {
      "text/html": [
       "<div>\n",
       "<style scoped>\n",
       "    .dataframe tbody tr th:only-of-type {\n",
       "        vertical-align: middle;\n",
       "    }\n",
       "\n",
       "    .dataframe tbody tr th {\n",
       "        vertical-align: top;\n",
       "    }\n",
       "\n",
       "    .dataframe thead th {\n",
       "        text-align: right;\n",
       "    }\n",
       "</style>\n",
       "<table border=\"1\" class=\"dataframe\">\n",
       "  <thead>\n",
       "    <tr style=\"text-align: right;\">\n",
       "      <th></th>\n",
       "      <th>month_number</th>\n",
       "      <th>payment_amount</th>\n",
       "      <th>growth_rate</th>\n",
       "    </tr>\n",
       "  </thead>\n",
       "  <tbody>\n",
       "    <tr>\n",
       "      <th>0</th>\n",
       "      <td>1</td>\n",
       "      <td>175000</td>\n",
       "      <td>NaN</td>\n",
       "    </tr>\n",
       "    <tr>\n",
       "      <th>1</th>\n",
       "      <td>2</td>\n",
       "      <td>180000</td>\n",
       "      <td>2.857143</td>\n",
       "    </tr>\n",
       "    <tr>\n",
       "      <th>2</th>\n",
       "      <td>3</td>\n",
       "      <td>165000</td>\n",
       "      <td>-8.333333</td>\n",
       "    </tr>\n",
       "    <tr>\n",
       "      <th>3</th>\n",
       "      <td>4</td>\n",
       "      <td>190000</td>\n",
       "      <td>15.151515</td>\n",
       "    </tr>\n",
       "  </tbody>\n",
       "</table>\n",
       "</div>"
      ],
      "text/plain": [
       "   month_number  payment_amount  growth_rate\n",
       "0             1          175000          NaN\n",
       "1             2          180000     2.857143\n",
       "2             3          165000    -8.333333\n",
       "3             4          190000    15.151515"
      ]
     },
     "metadata": {},
     "output_type": "display_data"
    },
    {
     "name": "stdout",
     "output_type": "stream",
     "text": [
      "\n",
      "Payment Distribution:\n"
     ]
    },
    {
     "data": {
      "text/html": [
       "<div>\n",
       "<style scoped>\n",
       "    .dataframe tbody tr th:only-of-type {\n",
       "        vertical-align: middle;\n",
       "    }\n",
       "\n",
       "    .dataframe tbody tr th {\n",
       "        vertical-align: top;\n",
       "    }\n",
       "\n",
       "    .dataframe thead th {\n",
       "        text-align: right;\n",
       "    }\n",
       "</style>\n",
       "<table border=\"1\" class=\"dataframe\">\n",
       "  <thead>\n",
       "    <tr style=\"text-align: right;\">\n",
       "      <th></th>\n",
       "      <th>provider_id</th>\n",
       "      <th>provider_name</th>\n",
       "      <th>num_months</th>\n",
       "      <th>months_above_avg</th>\n",
       "      <th>months_below_avg</th>\n",
       "    </tr>\n",
       "  </thead>\n",
       "  <tbody>\n",
       "    <tr>\n",
       "      <th>0</th>\n",
       "      <td>1003</td>\n",
       "      <td>Gamma Processing</td>\n",
       "      <td>4</td>\n",
       "      <td>2</td>\n",
       "      <td>2</td>\n",
       "    </tr>\n",
       "  </tbody>\n",
       "</table>\n",
       "</div>"
      ],
      "text/plain": [
       "   provider_id     provider_name  num_months  months_above_avg  \\\n",
       "0         1003  Gamma Processing           4                 2   \n",
       "\n",
       "   months_below_avg  \n",
       "0                 2  "
      ]
     },
     "metadata": {},
     "output_type": "display_data"
    },
    {
     "name": "stderr",
     "output_type": "stream",
     "text": [
      "2024-11-13 16:26:01,018 - INFO - Report generated: gamma_report.xlsx\n",
      "2024-11-13 16:26:01,018 - INFO - Provider processing completed\n"
     ]
    }
   ],
   "source": [
    "def process_providers():\n",
    "    \"\"\"\n",
    "    Main function to process all providers\n",
    "    \"\"\"\n",
    "    logging.info(\"Starting provider processing\")\n",
    "    \n",
    "    for idx, row in df_providers.iterrows():\n",
    "        try:\n",
    "            # Execute analysis notebook\n",
    "            results = execute_analysis_notebook(row)\n",
    "            \n",
    "            # Create Excel report\n",
    "            create_excel_report(results, row['output_file'])\n",
    "            \n",
    "        except Exception as e:\n",
    "            logging.error(f\"Error processing provider {row['provider_name']}: {str(e)}\")\n",
    "            continue\n",
    "    \n",
    "    logging.info(\"Provider processing completed\")\n",
    "\n",
    "if __name__ == \"__main__\":\n",
    "    process_providers()"
   ]
  }
 ],
 "metadata": {
  "kernelspec": {
   "display_name": "Python 3",
   "language": "python",
   "name": "python3"
  },
  "language_info": {
   "codemirror_mode": {
    "name": "ipython",
    "version": 3
   },
   "file_extension": ".py",
   "mimetype": "text/x-python",
   "name": "python",
   "nbconvert_exporter": "python",
   "pygments_lexer": "ipython3",
   "version": "3.12.1"
  }
 },
 "nbformat": 4,
 "nbformat_minor": 2
}
